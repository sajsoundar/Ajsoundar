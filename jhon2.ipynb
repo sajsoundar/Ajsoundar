{
  "nbformat": 4,
  "nbformat_minor": 0,
  "metadata": {
    "colab": {
      "provenance": [],
      "authorship_tag": "ABX9TyPegqj4MX5GMcs73/4/I/Wm",
      "include_colab_link": true
    },
    "kernelspec": {
      "name": "python3",
      "display_name": "Python 3"
    },
    "language_info": {
      "name": "python"
    }
  },
  "cells": [
    {
      "cell_type": "markdown",
      "metadata": {
        "id": "view-in-github",
        "colab_type": "text"
      },
      "source": [
        "<a href=\"https://colab.research.google.com/github/sajsoundar/Ajsoundar/blob/main/jhon2.ipynb\" target=\"_parent\"><img src=\"https://colab.research.google.com/assets/colab-badge.svg\" alt=\"Open In Colab\"/></a>"
      ]
    },
    {
      "cell_type": "markdown",
      "source": [
        "NEAGTIVE INDEXING IN RANGE"
      ],
      "metadata": {
        "id": "1XdDlPVzNOed"
      }
    },
    {
      "cell_type": "code",
      "execution_count": 7,
      "metadata": {
        "colab": {
          "base_uri": "https://localhost:8080/"
        },
        "id": "D3TdgZLyM5SQ",
        "outputId": "8c526b7f-ab37-4af6-d91d-a43dbeb2dd3b"
      },
      "outputs": [
        {
          "output_type": "stream",
          "name": "stdout",
          "text": [
            "5\n",
            "4\n",
            "3\n",
            "2\n",
            "1\n"
          ]
        }
      ],
      "source": [
        "n=5\n",
        "for i in  range(n,0,-1):\n",
        "  print(i)"
      ]
    },
    {
      "cell_type": "markdown",
      "source": [
        "LEN gives the length of that"
      ],
      "metadata": {
        "id": "cPkn4qEU9vpU"
      }
    },
    {
      "cell_type": "markdown",
      "source": [
        "    1 2 3 4 5 6\n",
        "+ve 0 1 1.....len(a)-1\n",
        "-ve -6 -5 -4 -3 -2 -1"
      ],
      "metadata": {
        "id": "uSv2RD069iSd"
      }
    },
    {
      "cell_type": "markdown",
      "source": [
        "PRINT NEGATIVE NUMBERS USING RANGE AND FOR"
      ],
      "metadata": {
        "id": "DdC-_iCONueY"
      }
    },
    {
      "cell_type": "code",
      "source": [
        "for i in range(-5,0,1):\n",
        "  print(i)"
      ],
      "metadata": {
        "colab": {
          "base_uri": "https://localhost:8080/"
        },
        "id": "xYpCQYOQNt-R",
        "outputId": "538883b7-6ccd-474a-db71-7873c7f959b5"
      },
      "execution_count": 9,
      "outputs": [
        {
          "output_type": "stream",
          "name": "stdout",
          "text": [
            "-5\n",
            "-4\n",
            "-3\n",
            "-2\n",
            "-1\n"
          ]
        }
      ]
    },
    {
      "cell_type": "markdown",
      "source": [
        "STEP SIZE"
      ],
      "metadata": {
        "id": "CqkRCo2UNvOH"
      }
    },
    {
      "cell_type": "code",
      "source": [
        "(start,end,stepsize)\n",
        "\n",
        "(0,11,2)\n",
        "0 2 4 6 8 10"
      ],
      "metadata": {
        "id": "9piYHOy5NVwc"
      },
      "execution_count": null,
      "outputs": []
    },
    {
      "cell_type": "code",
      "source": [
        "for i in range(0,11,2):\n",
        "  print(i)"
      ],
      "metadata": {
        "colab": {
          "base_uri": "https://localhost:8080/"
        },
        "id": "3WggKUVh_vw7",
        "outputId": "0cd45d99-cdcd-4f84-ac82-206a512f44de"
      },
      "execution_count": 10,
      "outputs": [
        {
          "output_type": "stream",
          "name": "stdout",
          "text": [
            "0\n",
            "2\n",
            "4\n",
            "6\n",
            "8\n",
            "10\n"
          ]
        }
      ]
    },
    {
      "cell_type": "markdown",
      "source": [
        "PRINT THE ODD AND EVEN NUMBERS"
      ],
      "metadata": {
        "id": "q98_ap0fN7k9"
      }
    },
    {
      "cell_type": "code",
      "source": [
        "for i in range(0,11):\n",
        "  if i%2==1:\n",
        "    print(i)\n",
        "  else:\n",
        "    print(\"not\")"
      ],
      "metadata": {
        "colab": {
          "base_uri": "https://localhost:8080/"
        },
        "id": "pYrS9HMEAEQQ",
        "outputId": "d769cbef-9599-45ef-dbca-571e8d98c153"
      },
      "execution_count": 13,
      "outputs": [
        {
          "output_type": "stream",
          "name": "stdout",
          "text": [
            "not\n",
            "1\n",
            "not\n",
            "3\n",
            "not\n",
            "5\n",
            "not\n",
            "7\n",
            "not\n",
            "9\n",
            "not\n"
          ]
        }
      ]
    },
    {
      "cell_type": "markdown",
      "source": [
        "1233 t\n",
        "0 f"
      ],
      "metadata": {
        "id": "ZJ9sxxcqA8KF"
      }
    },
    {
      "cell_type": "markdown",
      "source": [
        "nested for i in range(0,11):\n",
        "          for j in range(0,11):\n",
        "              print(j)"
      ],
      "metadata": {
        "id": "h4Lw5f-qA17T"
      }
    },
    {
      "cell_type": "markdown",
      "source": [
        "1 2 3 4\n",
        "\n",
        "1 2 3\n",
        "\n",
        "1 2\n",
        "\n",
        "1"
      ],
      "metadata": {
        "id": "SPITNOm9Oc4H"
      }
    },
    {
      "cell_type": "code",
      "source": [
        "n=int(input())\n",
        "for i in range(0,n):\n",
        "  for j in range(1,n-i):\n",
        "    print(j,end=\"\")\n",
        "  print()"
      ],
      "metadata": {
        "colab": {
          "base_uri": "https://localhost:8080/"
        },
        "id": "gqzTmF0ZOlyg",
        "outputId": "6ac889c8-8be6-4f66-b2bb-dd885befc514"
      },
      "execution_count": 19,
      "outputs": [
        {
          "output_type": "stream",
          "name": "stdout",
          "text": [
            "5\n",
            "1234\n",
            "123\n",
            "12\n",
            "1\n",
            "\n"
          ]
        }
      ]
    },
    {
      "cell_type": "markdown",
      "source": [
        "*   *\n",
        "\n",
        "*   *\n",
        "\n",
        "*   *\n",
        "\n",
        "*   *\n",
        "\n",
        "*   *"
      ],
      "metadata": {
        "id": "kLoQVz0RO65s"
      }
    },
    {
      "cell_type": "code",
      "source": [
        "n=int(input())\n",
        "for i in range(n,0,-1):\n",
        "  if i==1 or i==n:\n",
        "    for j in range(0,i):\n",
        "      print(\"*\",end=\"\")\n",
        "    print()\n",
        "  if i>1 and i<n:\n",
        "    for j in range(1,i+1):\n",
        "      if j==1 or j==i:\n",
        "        print(\"*\",end=\"\")\n",
        "      else:\n",
        "        print(\" \",end=\"\")\n",
        "    print()\n",
        "      \n",
        "\n",
        "    \n"
      ],
      "metadata": {
        "colab": {
          "base_uri": "https://localhost:8080/"
        },
        "id": "SMDyhQMjODM4",
        "outputId": "3ccd0721-0d61-49f6-c6ae-247e242aa819"
      },
      "execution_count": 27,
      "outputs": [
        {
          "output_type": "stream",
          "name": "stdout",
          "text": [
            "5\n",
            "*****\n",
            "*  *\n",
            "* *\n",
            "**\n",
            "*\n"
          ]
        }
      ]
    },
    {
      "cell_type": "code",
      "source": [],
      "metadata": {
        "id": "DIqBrpfUO6kI"
      },
      "execution_count": null,
      "outputs": []
    },
    {
      "cell_type": "markdown",
      "source": [
        "FUNCTIONS:"
      ],
      "metadata": {
        "id": "YNucUIaNPbdp"
      }
    },
    {
      "cell_type": "code",
      "source": [
        "def jhondy():\n",
        "  return 1"
      ],
      "metadata": {
        "id": "FSrXH4H0YUO-"
      },
      "execution_count": 32,
      "outputs": []
    },
    {
      "cell_type": "code",
      "source": [
        "def maxi(a,b):\n",
        "  if a>b:\n",
        "    return a\n",
        "    return b\n",
        "\n",
        "  else:\n",
        "    return b"
      ],
      "metadata": {
        "id": "pt5C_pu8ZDR9"
      },
      "execution_count": 35,
      "outputs": []
    },
    {
      "cell_type": "code",
      "source": [
        "x=maxi(4,3)\n",
        "print(x)"
      ],
      "metadata": {
        "colab": {
          "base_uri": "https://localhost:8080/"
        },
        "id": "H0HvRiaoZeja",
        "outputId": "188a5017-24a5-4ad3-c211-e32d977c4a49"
      },
      "execution_count": 37,
      "outputs": [
        {
          "output_type": "stream",
          "name": "stdout",
          "text": [
            "4\n"
          ]
        }
      ]
    },
    {
      "cell_type": "code",
      "source": [
        "a=2\n",
        "a=3\n",
        "x=jhondy()\n",
        "print(x)"
      ],
      "metadata": {
        "colab": {
          "base_uri": "https://localhost:8080/"
        },
        "id": "5lXwT3JjYoEk",
        "outputId": "43fef794-851b-4e41-db78-7dd5b130f2dc"
      },
      "execution_count": 34,
      "outputs": [
        {
          "output_type": "stream",
          "name": "stdout",
          "text": [
            "1\n"
          ]
        }
      ]
    },
    {
      "cell_type": "markdown",
      "source": [
        "REVERSE A NUMBER"
      ],
      "metadata": {
        "id": "QetyGjhRPoXJ"
      }
    },
    {
      "cell_type": "code",
      "source": [
        "def reverse_num(a):\n",
        "  v=0\n",
        "  while a!=0:\n",
        "    r=a%10\n",
        "    v= v*10+r\n",
        "    a=a/10\n",
        "  return v\n"
      ],
      "metadata": {
        "id": "pcUZ11G_PnBW"
      },
      "execution_count": 39,
      "outputs": []
    },
    {
      "cell_type": "markdown",
      "source": [
        "FID THE VOWELS PRESENT IN A WORD:"
      ],
      "metadata": {
        "id": "FewnQ-DWQJUv"
      }
    },
    {
      "cell_type": "markdown",
      "source": [
        "STRING CONCATINATION"
      ],
      "metadata": {
        "id": "eJplKyJlQVV3"
      }
    },
    {
      "cell_type": "code",
      "source": [
        "a=\"ajay\"\n",
        "b=\"jhon\"\n",
        "print(a+1)"
      ],
      "metadata": {
        "colab": {
          "base_uri": "https://localhost:8080/",
          "height": 198
        },
        "id": "qBwGS0HXebIL",
        "outputId": "e21801ba-efb1-42c1-9d85-da0ec39036d2"
      },
      "execution_count": 41,
      "outputs": [
        {
          "output_type": "error",
          "ename": "TypeError",
          "evalue": "ignored",
          "traceback": [
            "\u001b[0;31m---------------------------------------------------------------------------\u001b[0m",
            "\u001b[0;31mTypeError\u001b[0m                                 Traceback (most recent call last)",
            "\u001b[0;32m<ipython-input-41-dce2b67fa366>\u001b[0m in \u001b[0;36m<module>\u001b[0;34m\u001b[0m\n\u001b[1;32m      1\u001b[0m \u001b[0ma\u001b[0m\u001b[0;34m=\u001b[0m\u001b[0;34m\"ajay\"\u001b[0m\u001b[0;34m\u001b[0m\u001b[0;34m\u001b[0m\u001b[0m\n\u001b[1;32m      2\u001b[0m \u001b[0mb\u001b[0m\u001b[0;34m=\u001b[0m\u001b[0;34m\"jhon\"\u001b[0m\u001b[0;34m\u001b[0m\u001b[0;34m\u001b[0m\u001b[0m\n\u001b[0;32m----> 3\u001b[0;31m \u001b[0mprint\u001b[0m\u001b[0;34m(\u001b[0m\u001b[0ma\u001b[0m\u001b[0;34m+\u001b[0m\u001b[0;36m1\u001b[0m\u001b[0;34m)\u001b[0m\u001b[0;34m\u001b[0m\u001b[0;34m\u001b[0m\u001b[0m\n\u001b[0m",
            "\u001b[0;31mTypeError\u001b[0m: can only concatenate str (not \"int\") to str"
          ]
        }
      ]
    }
  ]
}