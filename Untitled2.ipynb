{
  "nbformat": 4,
  "nbformat_minor": 0,
  "metadata": {
    "colab": {
      "provenance": [],
      "authorship_tag": "ABX9TyPBClnUM6LZl+R+IWbGvB35",
      "include_colab_link": true
    },
    "kernelspec": {
      "name": "python3",
      "display_name": "Python 3"
    },
    "language_info": {
      "name": "python"
    }
  },
  "cells": [
    {
      "cell_type": "markdown",
      "metadata": {
        "id": "view-in-github",
        "colab_type": "text"
      },
      "source": [
        "<a href=\"https://colab.research.google.com/github/sajsoundar/Ajsoundar/blob/sclaer/Untitled2.ipynb\" target=\"_parent\"><img src=\"https://colab.research.google.com/assets/colab-badge.svg\" alt=\"Open In Colab\"/></a>"
      ]
    },
    {
      "cell_type": "code",
      "execution_count": null,
      "metadata": {
        "colab": {
          "base_uri": "https://localhost:8080/"
        },
        "id": "cb13KBrDTsLE",
        "outputId": "e9eb7665-17f6-471f-b01b-7b1e1f9af9bf"
      },
      "outputs": [
        {
          "output_type": "stream",
          "name": "stdout",
          "text": [
            "39\n"
          ]
        }
      ],
      "source": [
        "a=[[1, 2, 3, 4], [5, 6, 7, 8], [1, 2, 3, 4], [5, 6, 7, 8]]\n",
        "global sum\n",
        "sum=0\n",
        "for i in range(len(a)):\n",
        "  sum+=a[i][i]\n",
        "for i in range(len(a)-1,0,-1):\n",
        "  for j in range(len(a)-1-i,len(a)):\n",
        "    sum+=a[j][i]\n",
        "print(sum)"
      ]
    },
    {
      "cell_type": "code",
      "source": [
        "a=input()\n",
        "b=input()\n",
        "s=print(a[0:len(a)-1]+b[0]+a[len(a)-1]+b[1:])"
      ],
      "metadata": {
        "colab": {
          "base_uri": "https://localhost:8080/"
        },
        "id": "KW310zSOeNZr",
        "outputId": "daf89783-1e6f-4cbb-a312-a63e33e52296"
      },
      "execution_count": null,
      "outputs": [
        {
          "output_type": "stream",
          "name": "stdout",
          "text": [
            "ajay\n",
            "kumar\n",
            "ajakyumar\n"
          ]
        }
      ]
    },
    {
      "cell_type": "code",
      "source": [
        "s"
      ],
      "metadata": {
        "id": "Cs4P0x5aoML3"
      },
      "execution_count": null,
      "outputs": []
    },
    {
      "cell_type": "code",
      "source": [],
      "metadata": {
        "id": "Rt7zoonkoSg6"
      },
      "execution_count": null,
      "outputs": []
    },
    {
      "cell_type": "code",
      "source": [
        "s=input()\n",
        "sn=s.split()\n",
        "global z\n",
        "z=[]\n",
        "for i in sn:\n",
        "  z.append(i[::-1])\n",
        "print(\" \".join(z))\n",
        "\n"
      ],
      "metadata": {
        "colab": {
          "base_uri": "https://localhost:8080/"
        },
        "id": "Ge6DnOcNh3lH",
        "outputId": "8a55802a-8dea-4894-8c78-7d556769b2ad"
      },
      "execution_count": null,
      "outputs": [
        {
          "output_type": "stream",
          "name": "stdout",
          "text": [
            "it is is good\n",
            "ti si si doog\n"
          ]
        }
      ]
    },
    {
      "cell_type": "code",
      "source": [
        "s=input()\n",
        "sn=s.split()\n",
        "z={}\n",
        "for i in s:\n",
        "  if i not in z:\n",
        "    z[i]=s.count(i)\n",
        "print(z)\n"
      ],
      "metadata": {
        "colab": {
          "base_uri": "https://localhost:8080/"
        },
        "id": "ULe6Rkt-p0CQ",
        "outputId": "4c5184db-cf04-4f05-89a6-785c3d75e858"
      },
      "execution_count": null,
      "outputs": [
        {
          "output_type": "stream",
          "name": "stdout",
          "text": [
            "1 2 3 4 5 54 3 2 1 1 1 2 \n",
            "{'1': 4, ' ': 12, '2': 3, '3': 2, '4': 2, '5': 2}\n"
          ]
        }
      ]
    },
    {
      "cell_type": "code",
      "source": [
        "s=input()\n",
        "sn=map(int,s.split())\n",
        "z={}\n",
        "for i in s:\n",
        "  continue\n",
        "  \n"
      ],
      "metadata": {
        "colab": {
          "base_uri": "https://localhost:8080/"
        },
        "id": "rRpEsaV1rnJD",
        "outputId": "1d02339f-760a-4b59-b6b8-51da453c78ed"
      },
      "execution_count": null,
      "outputs": [
        {
          "name": "stdout",
          "output_type": "stream",
          "text": [
            "1 2 3 4 5 5 4 3 2 1\n"
          ]
        }
      ]
    },
    {
      "cell_type": "code",
      "source": [
        "git clone https://github.com/sajsoundar/Ajsoundar.git\n"
      ],
      "metadata": {
        "colab": {
          "base_uri": "https://localhost:8080/",
          "height": 130
        },
        "id": "lf7XLv661Hsl",
        "outputId": "3860e763-daa7-48eb-fc45-8d3c35e8c05b"
      },
      "execution_count": 38,
      "outputs": [
        {
          "output_type": "error",
          "ename": "SyntaxError",
          "evalue": "ignored",
          "traceback": [
            "\u001b[0;36m  File \u001b[0;32m\"<ipython-input-38-0ff8dd77f55e>\"\u001b[0;36m, line \u001b[0;32m1\u001b[0m\n\u001b[0;31m    git clone https://github.com/sajsoundar/Ajsoundar.git\u001b[0m\n\u001b[0m        ^\u001b[0m\n\u001b[0;31mSyntaxError\u001b[0m\u001b[0;31m:\u001b[0m invalid syntax\n"
          ]
        }
      ]
    },
    {
      "cell_type": "code",
      "source": [
        "\n",
        "s=[1,2,3,4,7]\n",
        "r=[2,3,4,5]\n",
        "j=min(len(s),len(r))\n",
        "d={}\n",
        "for i in range(j):\n",
        "  d[s[i]]=r[i]\n",
        "print(d)\n"
      ],
      "metadata": {
        "colab": {
          "base_uri": "https://localhost:8080/"
        },
        "id": "lIFZiaP2tV88",
        "outputId": "5984a7b9-fbd4-4e06-dd75-e78f6c3a1880"
      },
      "execution_count": null,
      "outputs": [
        {
          "output_type": "stream",
          "name": "stdout",
          "text": [
            "{1: 2, 2: 3, 3: 4, 4: 5}\n"
          ]
        }
      ]
    }
  ]
}