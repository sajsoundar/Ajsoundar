{
  "nbformat": 4,
  "nbformat_minor": 0,
  "metadata": {
    "colab": {
      "provenance": [],
      "authorship_tag": "ABX9TyOkHbhM1HPSHRTb9+k0d2O5",
      "include_colab_link": true
    },
    "kernelspec": {
      "name": "python3",
      "display_name": "Python 3"
    },
    "language_info": {
      "name": "python"
    }
  },
  "cells": [
    {
      "cell_type": "markdown",
      "metadata": {
        "id": "view-in-github",
        "colab_type": "text"
      },
      "source": [
        "<a href=\"https://colab.research.google.com/github/sajsoundar/Ajsoundar/blob/main/ajjhondyrev1.ipynb\" target=\"_parent\"><img src=\"https://colab.research.google.com/assets/colab-badge.svg\" alt=\"Open In Colab\"/></a>"
      ]
    },
    {
      "cell_type": "markdown",
      "source": [
        "python>c++/c>assembly>mac(0,1)\n",
        "\n"
      ],
      "metadata": {
        "id": "eyC84PmCzsMY"
      }
    },
    {
      "cell_type": "code",
      "source": [
        "a=5"
      ],
      "metadata": {
        "id": "_aikiNi50HCK"
      },
      "execution_count": 2,
      "outputs": []
    },
    {
      "cell_type": "code",
      "source": [
        "print(a)"
      ],
      "metadata": {
        "colab": {
          "base_uri": "https://localhost:8080/"
        },
        "id": "CxoDFOVIyKNI",
        "outputId": "61d79312-5bee-4f5b-e8f7-adca30ee0c4b"
      },
      "execution_count": 3,
      "outputs": [
        {
          "output_type": "stream",
          "name": "stdout",
          "text": [
            "5\n"
          ]
        }
      ]
    },
    {
      "cell_type": "code",
      "source": [
        "print(\"'jhondy'\",\"ajay\",\"biju\",sep=\"   \",end=\" \")\n",
        "print(\"ajay\")"
      ],
      "metadata": {
        "colab": {
          "base_uri": "https://localhost:8080/"
        },
        "id": "vXIdGEh60NTe",
        "outputId": "6b1bb668-0944-4b8d-f938-ba64c08e4ad2"
      },
      "execution_count": 13,
      "outputs": [
        {
          "output_type": "stream",
          "name": "stdout",
          "text": [
            "'jhondy'   ajay   biju ajay\n"
          ]
        }
      ]
    },
    {
      "cell_type": "markdown",
      "source": [
        "\"ajay jhondy\" #space also included as charc"
      ],
      "metadata": {
        "id": "SgU9qJA-2G-z"
      }
    },
    {
      "cell_type": "code",
      "source": [
        "a,b=3,2\n",
        "print(a,b)"
      ],
      "metadata": {
        "colab": {
          "base_uri": "https://localhost:8080/"
        },
        "id": "fnW-nOPM1rgR",
        "outputId": "97409531-0e8f-4804-c758-76c718c25c44"
      },
      "execution_count": 15,
      "outputs": [
        {
          "output_type": "stream",
          "name": "stdout",
          "text": [
            "3 2\n"
          ]
        }
      ]
    },
    {
      "cell_type": "code",
      "source": [
        "a=float(input())\n",
        "print(a) #string"
      ],
      "metadata": {
        "colab": {
          "base_uri": "https://localhost:8080/"
        },
        "id": "Z1fMuD1W2Qor",
        "outputId": "377b8fef-6e7f-48a5-a0c5-fbac9b7649ee"
      },
      "execution_count": 20,
      "outputs": [
        {
          "output_type": "stream",
          "name": "stdout",
          "text": [
            "5\n",
            "5.0\n"
          ]
        }
      ]
    },
    {
      "cell_type": "markdown",
      "source": [
        "type func determines the type of the value"
      ],
      "metadata": {
        "id": "tYUIBSnk2h5d"
      }
    },
    {
      "cell_type": "code",
      "source": [
        "type(a)"
      ],
      "metadata": {
        "colab": {
          "base_uri": "https://localhost:8080/"
        },
        "id": "4UvzFBsR2gJb",
        "outputId": "bab80a0f-254d-41ed-ef7c-049ace8f0624"
      },
      "execution_count": 21,
      "outputs": [
        {
          "output_type": "execute_result",
          "data": {
            "text/plain": [
              "float"
            ]
          },
          "metadata": {},
          "execution_count": 21
        }
      ]
    },
    {
      "cell_type": "code",
      "source": [
        "a=5\n",
        "+\n",
        "-\n",
        "/\n",
        "%\n",
        "//"
      ],
      "metadata": {
        "id": "cjfbUFb622bc"
      },
      "execution_count": null,
      "outputs": []
    },
    {
      "cell_type": "code",
      "source": [
        "5//2"
      ],
      "metadata": {
        "colab": {
          "base_uri": "https://localhost:8080/"
        },
        "id": "uuPdwJeq3fGZ",
        "outputId": "9333f4b8-694d-4af0-e28d-300b5cc1abad"
      },
      "execution_count": 22,
      "outputs": [
        {
          "output_type": "execute_result",
          "data": {
            "text/plain": [
              "2"
            ]
          },
          "metadata": {},
          "execution_count": 22
        }
      ]
    },
    {
      "cell_type": "code",
      "source": [
        "a=2%2\n",
        "print(a)"
      ],
      "metadata": {
        "colab": {
          "base_uri": "https://localhost:8080/"
        },
        "id": "g41gLnRP3lXl",
        "outputId": "1cfaceb9-2f18-458c-d484-ad1e10f48e4e"
      },
      "execution_count": 23,
      "outputs": [
        {
          "output_type": "stream",
          "name": "stdout",
          "text": [
            "0\n"
          ]
        }
      ]
    },
    {
      "cell_type": "code",
      "source": [
        "2/2"
      ],
      "metadata": {
        "colab": {
          "base_uri": "https://localhost:8080/"
        },
        "id": "9neo-EFO31xQ",
        "outputId": "58ba00bd-03be-42bc-abb8-56940d90fa6a"
      },
      "execution_count": 24,
      "outputs": [
        {
          "output_type": "execute_result",
          "data": {
            "text/plain": [
              "1.0"
            ]
          },
          "metadata": {},
          "execution_count": 24
        }
      ]
    },
    {
      "cell_type": "code",
      "source": [
        "round(2.34344,3)"
      ],
      "metadata": {
        "colab": {
          "base_uri": "https://localhost:8080/"
        },
        "id": "OpX_3-5N38kI",
        "outputId": "6d71aee5-5a74-4cad-d6d5-10053e0fee06"
      },
      "execution_count": 25,
      "outputs": [
        {
          "output_type": "execute_result",
          "data": {
            "text/plain": [
              "2.343"
            ]
          },
          "metadata": {},
          "execution_count": 25
        }
      ]
    },
    {
      "cell_type": "code",
      "source": [
        "5>=2\n"
      ],
      "metadata": {
        "colab": {
          "base_uri": "https://localhost:8080/"
        },
        "id": "wasE7aYS4FmZ",
        "outputId": "d3a02459-370d-4b4a-cecc-080dfb041fe4"
      },
      "execution_count": 26,
      "outputs": [
        {
          "output_type": "execute_result",
          "data": {
            "text/plain": [
              "True"
            ]
          },
          "metadata": {},
          "execution_count": 26
        }
      ]
    },
    {
      "cell_type": "code",
      "source": [
        "5<=2\n"
      ],
      "metadata": {
        "colab": {
          "base_uri": "https://localhost:8080/"
        },
        "id": "Y3dL1Mbv4t-i",
        "outputId": "543d4399-0948-4e09-df8c-f639f983e6ec"
      },
      "execution_count": 27,
      "outputs": [
        {
          "output_type": "execute_result",
          "data": {
            "text/plain": [
              "False"
            ]
          },
          "metadata": {},
          "execution_count": 27
        }
      ]
    },
    {
      "cell_type": "code",
      "source": [
        "5==2"
      ],
      "metadata": {
        "colab": {
          "base_uri": "https://localhost:8080/"
        },
        "id": "lw3EoVqb4xBb",
        "outputId": "37fdde23-cf0f-4b65-bb57-fed65b406e02"
      },
      "execution_count": 28,
      "outputs": [
        {
          "output_type": "execute_result",
          "data": {
            "text/plain": [
              "False"
            ]
          },
          "metadata": {},
          "execution_count": 28
        }
      ]
    },
    {
      "cell_type": "code",
      "source": [
        "5!=2"
      ],
      "metadata": {
        "colab": {
          "base_uri": "https://localhost:8080/"
        },
        "id": "jG7aLdwt40LC",
        "outputId": "23500a62-b8ff-47d6-a1db-cfce7f118dbf"
      },
      "execution_count": 29,
      "outputs": [
        {
          "output_type": "execute_result",
          "data": {
            "text/plain": [
              "True"
            ]
          },
          "metadata": {},
          "execution_count": 29
        }
      ]
    },
    {
      "cell_type": "code",
      "source": [],
      "metadata": {
        "id": "AP3iIgVE5b9g"
      },
      "execution_count": null,
      "outputs": []
    },
    {
      "cell_type": "markdown",
      "source": [
        "You have been given a dataset for marks of 2 subjects, scored by students of classes ClassA and ClassB. You now want to compare the performances of class A and class B by finding out the average performance of the classes. Write a program to find if class A performed better. Print True is Class A is strictly better else return False."
      ],
      "metadata": {
        "id": "eiBoLfj15rba"
      }
    },
    {
      "cell_type": "markdown",
      "source": [
        "![bodmas.jpg](data:image/jpeg;base64,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)"
      ],
      "metadata": {
        "id": "qvAS0Xrg7MSI"
      }
    },
    {
      "cell_type": "markdown",
      "source": [
        "You are given 3 integer angles(in degrees) A, B and C of a triangle. You have to tell whether the triangle is valid or not.\n",
        "\n"
      ],
      "metadata": {
        "id": "8icZKyz98Y34"
      }
    },
    {
      "cell_type": "code",
      "source": [
        "a=int(input())\n",
        "b=int(input())\n",
        "c=int(input())\n",
        "if (a+b+c)==180:\n",
        "  print(\"yes\")\n",
        "else:\n",
        "  \n",
        "  print(\"No6\")"
      ],
      "metadata": {
        "colab": {
          "base_uri": "https://localhost:8080/"
        },
        "id": "bHo3dHbO7bhB",
        "outputId": "320bef18-b0f7-4bbe-db79-2d7fd0eae807"
      },
      "execution_count": 31,
      "outputs": [
        {
          "output_type": "stream",
          "name": "stdout",
          "text": [
            "60\n",
            "60\n",
            "60\n",
            "yes\n"
          ]
        }
      ]
    },
    {
      "cell_type": "markdown",
      "source": [
        "to find whether the number is positive or neagtive"
      ],
      "metadata": {
        "id": "5WTgZGx-9RdM"
      }
    },
    {
      "cell_type": "code",
      "source": [
        "a=int(input())\n",
        "if a>=0:\n",
        "  print(\"yes\")\n",
        "else:\n",
        "  print(\"No\")"
      ],
      "metadata": {
        "colab": {
          "base_uri": "https://localhost:8080/"
        },
        "id": "Wvskorgt9Uro",
        "outputId": "a618e7a6-53c5-49e6-c649-63f9b885a3eb"
      },
      "execution_count": 32,
      "outputs": [
        {
          "output_type": "stream",
          "name": "stdout",
          "text": [
            "-6\n",
            "No\n"
          ]
        }
      ]
    },
    {
      "cell_type": "code",
      "source": [
        "Python or Java\tNice choice!\n",
        "Golang\tYou're a cool person I see...\n",
        "JavaScript\tOkay so you are our web developer!\n",
        "C++\t\n",
        "Too old school...\n",
        "\n",
        "Anything else\t\n",
        "I don't know that language.\n"
      ],
      "metadata": {
        "id": "QlA6GFhp98Sj"
      },
      "execution_count": null,
      "outputs": []
    },
    {
      "cell_type": "code",
      "source": [
        "a=input()\n",
        "if a==(\"Python\" or \"Java\"):\n",
        "  print(\"Nice choice!\")\n",
        "elif a==\"Golang\":\n",
        "  print(\"You're a cool person I see...\")\n",
        "else:\n",
        "  print(\"I don't know that language\")"
      ],
      "metadata": {
        "colab": {
          "base_uri": "https://localhost:8080/"
        },
        "id": "eoC-DlLn-Vn1",
        "outputId": "1ceecfbf-6731-4efc-c24e-33d486a5a2f5"
      },
      "execution_count": 35,
      "outputs": [
        {
          "output_type": "stream",
          "name": "stdout",
          "text": [
            "sdafa\n",
            "I don't know that language\n"
          ]
        }
      ]
    },
    {
      "cell_type": "markdown",
      "source": [
        "WHILE LOOP"
      ],
      "metadata": {
        "id": "ADRdl5fXANX4"
      }
    },
    {
      "cell_type": "markdown",
      "source": [
        "1>>>>>initialization\n",
        "2>>>>>conditon\n",
        "3>>>>>update"
      ],
      "metadata": {
        "id": "6QtWwwsWAU0g"
      }
    },
    {
      "cell_type": "markdown",
      "source": [
        "to find the multiles of 4 using for loop"
      ],
      "metadata": {
        "id": "ecsK9TuvAxBp"
      }
    },
    {
      "cell_type": "code",
      "source": [
        "n=int(input()) #upto which it should be printed\n",
        "i=4\n",
        "while i<=n:\n",
        "  print(i)\n",
        "  i=i+1\n",
        "c-=1#c=c-1"
      ],
      "metadata": {
        "id": "6p3AVp42_7Hy"
      },
      "execution_count": null,
      "outputs": []
    },
    {
      "cell_type": "markdown",
      "source": [
        "**for loop**"
      ],
      "metadata": {
        "id": "c4boxrc8EZb8"
      }
    },
    {
      "cell_type": "markdown",
      "source": [
        "for i (condition)"
      ],
      "metadata": {
        "id": "c-ax-D_-Egcn"
      }
    },
    {
      "cell_type": "markdown",
      "source": [],
      "metadata": {
        "id": "Q1S8eKFXEgWr"
      }
    },
    {
      "cell_type": "code",
      "source": [
        "a=\"ajay\"\n",
        "for i in a:\n",
        "  print(i,end=\"\")\n"
      ],
      "metadata": {
        "colab": {
          "base_uri": "https://localhost:8080/"
        },
        "id": "65vT3ZnuEZGh",
        "outputId": "3f1ea1ac-26e0-4c62-f6f9-326685d24194"
      },
      "execution_count": 36,
      "outputs": [
        {
          "output_type": "stream",
          "name": "stdout",
          "text": [
            "ajay"
          ]
        }
      ]
    },
    {
      "cell_type": "code",
      "source": [
        "n=int(input())\n",
        "for i in range(1,n):\n",
        "  print(i,sep=\" \",end=\" \")"
      ],
      "metadata": {
        "colab": {
          "base_uri": "https://localhost:8080/"
        },
        "id": "zQTy4UfuE6WW",
        "outputId": "33a2cae4-b454-46bf-b35a-c3a4aabdbb27"
      },
      "execution_count": 41,
      "outputs": [
        {
          "output_type": "stream",
          "name": "stdout",
          "text": [
            "6\n",
            "1 2 3 4 5 "
          ]
        }
      ]
    },
    {
      "cell_type": "code",
      "source": [],
      "metadata": {
        "id": "MmHKhpZ6GhY2"
      },
      "execution_count": null,
      "outputs": []
    },
    {
      "cell_type": "markdown",
      "source": [
        "pattern printing\n",
        "\n",
        "\n"
      ],
      "metadata": {
        "id": "Ikdbk9cGG21w"
      }
    },
    {
      "cell_type": "markdown",
      "source": [
        "*\n",
        "**\n",
        "***"
      ],
      "metadata": {
        "id": "ezCjNW2zHHgI"
      }
    },
    {
      "cell_type": "code",
      "source": [
        "n=int(input())\n",
        "for i in range(1,n+1):\n",
        "  for j in range(1,i):\n",
        "    print(\"*\",end=\"\")\n",
        "  print()\n"
      ],
      "metadata": {
        "colab": {
          "base_uri": "https://localhost:8080/"
        },
        "id": "00miwLlYF1Yt",
        "outputId": "4e2856a8-b794-4f88-f649-8c28e7480cf7"
      },
      "execution_count": 43,
      "outputs": [
        {
          "output_type": "stream",
          "name": "stdout",
          "text": [
            "6\n",
            "\n",
            "*\n",
            "**\n",
            "***\n",
            "****\n",
            "*****\n"
          ]
        }
      ]
    },
    {
      "cell_type": "code",
      "source": [
        "n=5\n",
        "for i in range(1,n+1):\n",
        "  print((n-i)*\" \",end=\"\"),print((i)*\"* \",sep=\"\")\n"
      ],
      "metadata": {
        "colab": {
          "base_uri": "https://localhost:8080/"
        },
        "id": "0EbCRTmbOMdm",
        "outputId": "7a5bc41d-b6a8-40e1-c22e-18034c1fed1f"
      },
      "execution_count": 44,
      "outputs": [
        {
          "output_type": "stream",
          "name": "stdout",
          "text": [
            "    * \n",
            "   * * \n",
            "  * * * \n",
            " * * * * \n",
            "* * * * * \n"
          ]
        }
      ]
    },
    {
      "cell_type": "markdown",
      "source": [
        "******\n",
        "*   *\n",
        "*  *\n",
        "* *\n",
        "*\n"
      ],
      "metadata": {
        "id": "zXKWdHIBOYrG"
      }
    },
    {
      "cell_type": "code",
      "source": [
        "for i in range(1,n+1):\n",
        "  i==1 or i==n\n",
        "  print(\"*\")\n",
        "for i in range(1,n+1):\n",
        "  "
      ],
      "metadata": {
        "id": "g7xBGIuNOYYE"
      },
      "execution_count": null,
      "outputs": []
    }
  ]
}