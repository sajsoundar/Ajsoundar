{
  "nbformat": 4,
  "nbformat_minor": 0,
  "metadata": {
    "colab": {
      "provenance": [],
      "authorship_tag": "ABX9TyMd9QWVql1P/YwLvxDsgX7w",
      "include_colab_link": true
    },
    "kernelspec": {
      "name": "python3",
      "display_name": "Python 3"
    },
    "language_info": {
      "name": "python"
    }
  },
  "cells": [
    {
      "cell_type": "markdown",
      "metadata": {
        "id": "view-in-github",
        "colab_type": "text"
      },
      "source": [
        "<a href=\"https://colab.research.google.com/github/sajsoundar/Ajsoundar/blob/main/JHON2.ipynb\" target=\"_parent\"><img src=\"https://colab.research.google.com/assets/colab-badge.svg\" alt=\"Open In Colab\"/></a>"
      ]
    },
    {
      "cell_type": "markdown",
      "source": [
        "NEAGTIVE INDEXING IN RANGE"
      ],
      "metadata": {
        "id": "1XdDlPVzNOed"
      }
    },
    {
      "cell_type": "code",
      "execution_count": null,
      "metadata": {
        "id": "D3TdgZLyM5SQ"
      },
      "outputs": [],
      "source": []
    },
    {
      "cell_type": "markdown",
      "source": [
        "PRINT NEGATIVE NUMBERS USING RANGE AND FOR"
      ],
      "metadata": {
        "id": "DdC-_iCONueY"
      }
    },
    {
      "cell_type": "code",
      "source": [],
      "metadata": {
        "id": "xYpCQYOQNt-R"
      },
      "execution_count": null,
      "outputs": []
    },
    {
      "cell_type": "markdown",
      "source": [
        "STEP SIZE"
      ],
      "metadata": {
        "id": "CqkRCo2UNvOH"
      }
    },
    {
      "cell_type": "code",
      "source": [],
      "metadata": {
        "id": "9piYHOy5NVwc"
      },
      "execution_count": null,
      "outputs": []
    },
    {
      "cell_type": "markdown",
      "source": [
        "PRINT THE ODD AND EVEN NUMBERS"
      ],
      "metadata": {
        "id": "q98_ap0fN7k9"
      }
    },
    {
      "cell_type": "code",
      "source": [],
      "metadata": {
        "id": "-F_DLUT2OAPq"
      },
      "execution_count": null,
      "outputs": []
    },
    {
      "cell_type": "markdown",
      "source": [
        "1 2 3 4\n",
        "\n",
        "1 2 3\n",
        "\n",
        "1 2\n",
        "\n",
        "1"
      ],
      "metadata": {
        "id": "SPITNOm9Oc4H"
      }
    },
    {
      "cell_type": "code",
      "source": [],
      "metadata": {
        "id": "gqzTmF0ZOlyg"
      },
      "execution_count": null,
      "outputs": []
    },
    {
      "cell_type": "markdown",
      "source": [
        "*   *\n",
        "\n",
        "*   *\n",
        "\n",
        "*   *\n",
        "\n",
        "*   *\n",
        "\n",
        "*   *"
      ],
      "metadata": {
        "id": "kLoQVz0RO65s"
      }
    },
    {
      "cell_type": "code",
      "source": [],
      "metadata": {
        "id": "DIqBrpfUO6kI"
      },
      "execution_count": null,
      "outputs": []
    },
    {
      "cell_type": "markdown",
      "source": [
        "FUNCTIONS:"
      ],
      "metadata": {
        "id": "YNucUIaNPbdp"
      }
    },
    {
      "cell_type": "markdown",
      "source": [
        "REVERSE A NUMBER"
      ],
      "metadata": {
        "id": "QetyGjhRPoXJ"
      }
    },
    {
      "cell_type": "code",
      "source": [],
      "metadata": {
        "id": "pcUZ11G_PnBW"
      },
      "execution_count": null,
      "outputs": []
    },
    {
      "cell_type": "markdown",
      "source": [
        "FID THE VOWELS PRESENT IN A WORD:"
      ],
      "metadata": {
        "id": "FewnQ-DWQJUv"
      }
    },
    {
      "cell_type": "markdown",
      "source": [
        "STRING CONCATINATION"
      ],
      "metadata": {
        "id": "eJplKyJlQVV3"
      }
    }
  ]
}